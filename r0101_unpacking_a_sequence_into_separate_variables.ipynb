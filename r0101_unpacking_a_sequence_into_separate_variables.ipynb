{
 "cells": [
  {
   "cell_type": "code",
   "id": "initial_id",
   "metadata": {
    "collapsed": true,
    "jupyter": {
     "outputs_hidden": true
    }
   },
   "source": [
    "# tuple\n",
    "p = (4, 5)\n",
    "x, y = p\n",
    "x, y"
   ],
   "outputs": [],
   "execution_count": null
  },
  {
   "cell_type": "code",
   "id": "7345615f0ad6b649",
   "metadata": {},
   "source": [
    "# list\n",
    "data = [ 'ACME', 50, 91.1, (2012, 12, 21) ]\n",
    "name, shares, price, date = data\n",
    "name"
   ],
   "outputs": [],
   "execution_count": null
  },
  {
   "cell_type": "code",
   "id": "689e8e968ad34fd9",
   "metadata": {},
   "source": [
    "# Demonstrating the unordered nature of sets\n",
    "basket = {'apple', 'orange', 'apple', 'pear', 'orange', 'banana'}\n",
    "print(basket)      # show that duplicates have been removed, order is arbitrary\n",
    "\n",
    "print('orange' in basket)  # fast membership testing, should be True\n",
    "\n",
    "'crabgrass' in basket  # should be False"
   ],
   "outputs": [],
   "execution_count": null
  },
  {
   "cell_type": "code",
   "id": "ee2395d994efe07d",
   "metadata": {},
   "source": [
    "# Another demonstration of set operations\n",
    "a = set('abracadabraz')\n",
    "b = set('alacazam')\n",
    "print(a)                                  # unique letters in a\n",
    "\n",
    "print(a - b)                              # toán tử hiệu\n",
    "\n",
    "print(a | b)                              # toán tử hợp\n",
    "\n",
    "print(a & b)                              # toán tử giao\n",
    "\n",
    "print(a ^ b)                              # toán tử hiệu đối xứng"
   ],
   "outputs": [],
   "execution_count": null
  }
 ],
 "metadata": {
  "kernelspec": {
   "display_name": "Python 3 (ipykernel)",
   "language": "python",
   "name": "python3"
  },
  "language_info": {
   "codemirror_mode": {
    "name": "ipython",
    "version": 3
   },
   "file_extension": ".py",
   "mimetype": "text/x-python",
   "name": "python",
   "nbconvert_exporter": "python",
   "pygments_lexer": "ipython3",
   "version": "3.13.0"
  }
 },
 "nbformat": 4,
 "nbformat_minor": 5
}

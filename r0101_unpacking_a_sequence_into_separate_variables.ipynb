{
 "cells": [
  {
   "cell_type": "code",
   "execution_count": 2,
   "id": "initial_id",
   "metadata": {
    "ExecuteTime": {
     "end_time": "2024-11-20T22:59:20.958145Z",
     "start_time": "2024-11-20T22:59:20.952408Z"
    },
    "collapsed": true,
    "jupyter": {
     "outputs_hidden": true
    }
   },
   "outputs": [
    {
     "data": {
      "text/plain": [
       "(4, 5)"
      ]
     },
     "execution_count": 2,
     "metadata": {},
     "output_type": "execute_result"
    }
   ],
   "source": [
    "# tuple\n",
    "p = (4, 5)\n",
    "x, y = p\n",
    "x, y"
   ]
  },
  {
   "cell_type": "code",
   "execution_count": 4,
   "id": "7345615f0ad6b649",
   "metadata": {
    "ExecuteTime": {
     "end_time": "2024-11-20T23:00:29.323309Z",
     "start_time": "2024-11-20T23:00:29.318412Z"
    }
   },
   "outputs": [
    {
     "data": {
      "text/plain": [
       "'ACME'"
      ]
     },
     "execution_count": 4,
     "metadata": {},
     "output_type": "execute_result"
    }
   ],
   "source": [
    "# list\n",
    "data = [ 'ACME', 50, 91.1, (2012, 12, 21) ]\n",
    "name, shares, price, date = data\n",
    "name"
   ]
  },
  {
   "cell_type": "code",
   "id": "689e8e968ad34fd9",
   "metadata": {
    "ExecuteTime": {
     "end_time": "2024-11-21T00:05:29.959443Z",
     "start_time": "2024-11-21T00:05:29.944980Z"
    }
   },
   "source": [
    "# Demonstrating the unordered nature of sets\n",
    "basket = {'apple', 'orange', 'apple', 'pear', 'orange', 'banana'}\n",
    "print(basket)      # show that duplicates have been removed, order is arbitrary\n",
    "\n",
    "print('orange' in basket)  # fast membership testing, should be True\n",
    "\n",
    "'crabgrass' in basket  # should be False"
   ],
   "outputs": [
    {
     "name": "stdout",
     "output_type": "stream",
     "text": [
      "{'pear', 'banana', 'apple', 'orange'}\n",
      "True\n"
     ]
    },
    {
     "data": {
      "text/plain": [
       "False"
      ]
     },
     "execution_count": 107,
     "metadata": {},
     "output_type": "execute_result"
    }
   ],
   "execution_count": 107
  },
  {
   "cell_type": "code",
   "id": "ee2395d994efe07d",
   "metadata": {
    "ExecuteTime": {
     "end_time": "2024-11-21T00:05:32.557215Z",
     "start_time": "2024-11-21T00:05:32.549844Z"
    }
   },
   "source": [
    "# Another demonstration of set operations\n",
    "a = set('abracadabra')\n",
    "b = set('alacazam')\n",
    "print(a)                                  # unique letters in a\n",
    "\n",
    "print(a - b)                              # toán tử hiệu\n",
    "\n",
    "print(a | b)                              # toán tử hợp\n",
    "\n",
    "print(a & b)                              # toán tử giao\n",
    "\n",
    "print(a ^ b)                              # toán tử hiệu đối xứng"
   ],
   "outputs": [
    {
     "name": "stdout",
     "output_type": "stream",
     "text": [
      "{'b', 'd', 'r', 'a', 'c'}\n",
      "{'b', 'r', 'd'}\n",
      "{'b', 'l', 'd', 'r', 'a', 'm', 'c', 'z'}\n",
      "{'c', 'a'}\n",
      "{'r', 'd', 'm', 'l', 'b', 'z'}\n"
     ]
    }
   ],
   "execution_count": 108
  }
 ],
 "metadata": {
  "kernelspec": {
   "display_name": "Python 3 (ipykernel)",
   "language": "python",
   "name": "python3"
  },
  "language_info": {
   "codemirror_mode": {
    "name": "ipython",
    "version": 3
   },
   "file_extension": ".py",
   "mimetype": "text/x-python",
   "name": "python",
   "nbconvert_exporter": "python",
   "pygments_lexer": "ipython3",
   "version": "3.13.0"
  }
 },
 "nbformat": 4,
 "nbformat_minor": 5
}
